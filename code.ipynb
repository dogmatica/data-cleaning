{
 "cells": [
  {
   "cell_type": "code",
   "execution_count": 5,
   "id": "4b176c87-1eb3-4235-b4e5-4eae9b6af744",
   "metadata": {},
   "outputs": [],
   "source": [
    "import pandas as pd\n",
    "import numpy as np\n",
    "import matplotlib.pyplot as plt\n",
    "from scipy import stats\n",
    "import seaborn\n",
    "from sklearn.decomposition import PCA"
   ]
  },
  {
   "cell_type": "code",
   "execution_count": 6,
   "id": "0ea9ec67-bc99-4a11-9010-b4e39241b725",
   "metadata": {},
   "outputs": [],
   "source": [
    "df = pd.read_csv('churn_raw_data.csv',dtype={'locationid':np.int64})"
   ]
  },
  {
   "cell_type": "code",
   "execution_count": 7,
   "id": "370195d3-1fa3-4c05-94a4-7596d4ceb5c5",
   "metadata": {},
   "outputs": [
    {
     "name": "stdout",
     "output_type": "stream",
     "text": [
      "<class 'pandas.core.frame.DataFrame'>\n",
      "RangeIndex: 10000 entries, 0 to 9999\n",
      "Data columns (total 52 columns):\n",
      " #   Column                Non-Null Count  Dtype  \n",
      "---  ------                --------------  -----  \n",
      " 0   Unnamed: 0            10000 non-null  int64  \n",
      " 1   CaseOrder             10000 non-null  int64  \n",
      " 2   Customer_id           10000 non-null  object \n",
      " 3   Interaction           10000 non-null  object \n",
      " 4   City                  10000 non-null  object \n",
      " 5   State                 10000 non-null  object \n",
      " 6   County                10000 non-null  object \n",
      " 7   Zip                   10000 non-null  int64  \n",
      " 8   Lat                   10000 non-null  float64\n",
      " 9   Lng                   10000 non-null  float64\n",
      " 10  Population            10000 non-null  int64  \n",
      " 11  Area                  10000 non-null  object \n",
      " 12  Timezone              10000 non-null  object \n",
      " 13  Job                   10000 non-null  object \n",
      " 14  Children              7505 non-null   float64\n",
      " 15  Age                   7525 non-null   float64\n",
      " 16  Education             10000 non-null  object \n",
      " 17  Employment            10000 non-null  object \n",
      " 18  Income                7510 non-null   float64\n",
      " 19  Marital               10000 non-null  object \n",
      " 20  Gender                10000 non-null  object \n",
      " 21  Churn                 10000 non-null  object \n",
      " 22  Outage_sec_perweek    10000 non-null  float64\n",
      " 23  Email                 10000 non-null  int64  \n",
      " 24  Contacts              10000 non-null  int64  \n",
      " 25  Yearly_equip_failure  10000 non-null  int64  \n",
      " 26  Techie                7523 non-null   object \n",
      " 27  Contract              10000 non-null  object \n",
      " 28  Port_modem            10000 non-null  object \n",
      " 29  Tablet                10000 non-null  object \n",
      " 30  InternetService       10000 non-null  object \n",
      " 31  Phone                 8974 non-null   object \n",
      " 32  Multiple              10000 non-null  object \n",
      " 33  OnlineSecurity        10000 non-null  object \n",
      " 34  OnlineBackup          10000 non-null  object \n",
      " 35  DeviceProtection      10000 non-null  object \n",
      " 36  TechSupport           9009 non-null   object \n",
      " 37  StreamingTV           10000 non-null  object \n",
      " 38  StreamingMovies       10000 non-null  object \n",
      " 39  PaperlessBilling      10000 non-null  object \n",
      " 40  PaymentMethod         10000 non-null  object \n",
      " 41  Tenure                9069 non-null   float64\n",
      " 42  MonthlyCharge         10000 non-null  float64\n",
      " 43  Bandwidth_GB_Year     8979 non-null   float64\n",
      " 44  item1                 10000 non-null  int64  \n",
      " 45  item2                 10000 non-null  int64  \n",
      " 46  item3                 10000 non-null  int64  \n",
      " 47  item4                 10000 non-null  int64  \n",
      " 48  item5                 10000 non-null  int64  \n",
      " 49  item6                 10000 non-null  int64  \n",
      " 50  item7                 10000 non-null  int64  \n",
      " 51  item8                 10000 non-null  int64  \n",
      "dtypes: float64(9), int64(15), object(28)\n",
      "memory usage: 4.0+ MB\n"
     ]
    }
   ],
   "source": [
    "df.info()"
   ]
  },
  {
   "cell_type": "code",
   "execution_count": 8,
   "id": "bc046d2e-6f5e-447f-bd8a-62f3878d43b2",
   "metadata": {},
   "outputs": [
    {
     "name": "stdout",
     "output_type": "stream",
     "text": [
      "      Unnamed: 0  CaseOrder Customer_id                           Interaction  \\\n",
      "0              1          1     K409198  aa90260b-4141-4a24-8e36-b04ce1f4f77b   \n",
      "1              2          2     S120509  fb76459f-c047-4a9d-8af9-e0f7d4ac2524   \n",
      "2              3          3     K191035  344d114c-3736-4be5-98f7-c72c281e2d35   \n",
      "3              4          4      D90850  abfa2b40-2d43-4994-b15a-989b8c79e311   \n",
      "4              5          5     K662701  68a861fd-0d20-4e51-a587-8a90407ee574   \n",
      "...          ...        ...         ...                                   ...   \n",
      "9995        9996       9996     M324793  45deb5a2-ae04-4518-bf0b-c82db8dbe4a4   \n",
      "9996        9997       9997     D861732  6e96b921-0c09-4993-bbda-a1ac6411061a   \n",
      "9997        9998       9998     I243405  e8307ddf-9a01-4fff-bc59-4742e03fd24f   \n",
      "9998        9999       9999     I641617  3775ccfc-0052-4107-81ae-9657f81ecdf3   \n",
      "9999       10000      10000      T38070  9de5fb6e-bd33-4995-aec8-f01d0172a499   \n",
      "\n",
      "              City State                 County    Zip       Lat        Lng  \\\n",
      "0      Point Baker    AK  Prince of Wales-Hyder  99927  56.25100 -133.37571   \n",
      "1      West Branch    MI                 Ogemaw  48661  44.32893  -84.24080   \n",
      "2          Yamhill    OR                Yamhill  97148  45.35589 -123.24657   \n",
      "3          Del Mar    CA              San Diego  92014  32.96687 -117.24798   \n",
      "4        Needville    TX              Fort Bend  77461  29.38012  -95.80673   \n",
      "...            ...   ...                    ...    ...       ...        ...   \n",
      "9995   Mount Holly    VT                Rutland   5758  43.43391  -72.78734   \n",
      "9996   Clarksville    TN             Montgomery  37042  36.56907  -87.41694   \n",
      "9997      Mobeetie    TX                Wheeler  79061  35.52039 -100.44180   \n",
      "9998    Carrollton    GA                Carroll  30117  33.58016  -85.13241   \n",
      "9999  Clarkesville    GA              Habersham  30523  34.70783  -83.53648   \n",
      "\n",
      "      ...  MonthlyCharge Bandwidth_GB_Year item1 item2  item3  item4 item5  \\\n",
      "0     ...     171.449762        904.536110     5     5      5      3     4   \n",
      "1     ...     242.948015        800.982766     3     4      3      3     4   \n",
      "2     ...     159.440398       2054.706961     4     4      2      4     4   \n",
      "3     ...     120.249493       2164.579412     4     4      4      2     5   \n",
      "4     ...     150.761216        271.493436     4     4      4      3     4   \n",
      "...   ...            ...               ...   ...   ...    ...    ...   ...   \n",
      "9995  ...     159.828800       6511.253000     3     2      3      3     4   \n",
      "9996  ...     208.856400       5695.952000     4     5      5      4     4   \n",
      "9997  ...     168.220900       4159.306000     4     4      4      4     4   \n",
      "9998  ...     252.628600       6468.457000     4     4      6      4     3   \n",
      "9999  ...     218.371000       5857.586000     2     2      3      3     3   \n",
      "\n",
      "     item6  item7 item8  \n",
      "0        4      3     4  \n",
      "1        3      4     4  \n",
      "2        3      3     3  \n",
      "3        4      3     3  \n",
      "4        4      4     5  \n",
      "...    ...    ...   ...  \n",
      "9995     3      2     3  \n",
      "9996     5      2     5  \n",
      "9997     4      4     5  \n",
      "9998     3      5     4  \n",
      "9999     3      4     1  \n",
      "\n",
      "[10000 rows x 52 columns]\n"
     ]
    }
   ],
   "source": [
    "print (df)"
   ]
  },
  {
   "cell_type": "code",
   "execution_count": 9,
   "id": "7fbd3796-09cb-44b7-9197-941524b337cc",
   "metadata": {},
   "outputs": [
    {
     "data": {
      "text/plain": [
       "0"
      ]
     },
     "execution_count": 9,
     "metadata": {},
     "output_type": "execute_result"
    }
   ],
   "source": [
    "df.duplicated().sum()"
   ]
  },
  {
   "cell_type": "code",
   "execution_count": 10,
   "id": "cecdefdd-875c-4d91-9e7f-b6af56cc40be",
   "metadata": {},
   "outputs": [
    {
     "data": {
      "text/plain": [
       "Unnamed: 0                 0\n",
       "CaseOrder                  0\n",
       "Customer_id                0\n",
       "Interaction                0\n",
       "City                       0\n",
       "State                      0\n",
       "County                     0\n",
       "Zip                        0\n",
       "Lat                        0\n",
       "Lng                        0\n",
       "Population                 0\n",
       "Area                       0\n",
       "Timezone                   0\n",
       "Job                        0\n",
       "Children                2495\n",
       "Age                     2475\n",
       "Education                  0\n",
       "Employment                 0\n",
       "Income                  2490\n",
       "Marital                    0\n",
       "Gender                     0\n",
       "Churn                      0\n",
       "Outage_sec_perweek         0\n",
       "Email                      0\n",
       "Contacts                   0\n",
       "Yearly_equip_failure       0\n",
       "Techie                  2477\n",
       "Contract                   0\n",
       "Port_modem                 0\n",
       "Tablet                     0\n",
       "InternetService            0\n",
       "Phone                   1026\n",
       "Multiple                   0\n",
       "OnlineSecurity             0\n",
       "OnlineBackup               0\n",
       "DeviceProtection           0\n",
       "TechSupport              991\n",
       "StreamingTV                0\n",
       "StreamingMovies            0\n",
       "PaperlessBilling           0\n",
       "PaymentMethod              0\n",
       "Tenure                   931\n",
       "MonthlyCharge              0\n",
       "Bandwidth_GB_Year       1021\n",
       "item1                      0\n",
       "item2                      0\n",
       "item3                      0\n",
       "item4                      0\n",
       "item5                      0\n",
       "item6                      0\n",
       "item7                      0\n",
       "item8                      0\n",
       "dtype: int64"
      ]
     },
     "execution_count": 10,
     "metadata": {},
     "output_type": "execute_result"
    }
   ],
   "source": [
    "df.isnull().sum()"
   ]
  },
  {
   "cell_type": "code",
   "execution_count": 11,
   "id": "21f7b95f-0bd4-446c-b522-ca3f5ea9e4c5",
   "metadata": {},
   "outputs": [
    {
     "data": {
      "text/plain": [
       "(array([1919., 1874., 1100., 1096.,  769.,  161.,  135.,  149.,  158.,\n",
       "         144.]),\n",
       " array([ 0.,  1.,  2.,  3.,  4.,  5.,  6.,  7.,  8.,  9., 10.]),\n",
       " <BarContainer object of 10 artists>)"
      ]
     },
     "execution_count": 11,
     "metadata": {},
     "output_type": "execute_result"
    },
    {
     "data": {
      "image/png": "[encoded data removed]",
      "text/plain": [
       "<Figure size 432x288 with 1 Axes>"
      ]
     },
     "metadata": {
      "needs_background": "light"
     },
     "output_type": "display_data"
    }
   ],
   "source": [
    "plt.hist(df['Children'])"
   ]
  },
  {
   "cell_type": "code",
   "execution_count": 12,
   "id": "20bd7bf2-77c2-43da-919d-bdbb1485ebd1",
   "metadata": {},
   "outputs": [
    {
     "data": {
      "text/plain": [
       "(array([853., 756., 714., 739., 708., 739., 728., 728., 761., 799.]),\n",
       " array([18. , 25.1, 32.2, 39.3, 46.4, 53.5, 60.6, 67.7, 74.8, 81.9, 89. ]),\n",
       " <BarContainer object of 10 artists>)"
      ]
     },
     "execution_count": 12,
     "metadata": {},
     "output_type": "execute_result"
    },
    {
     "data": {
      "image/png": "[encoded data removed]",
      "text/plain": [
       "<Figure size 432x288 with 1 Axes>"
      ]
     },
     "metadata": {
      "needs_background": "light"
     },
     "output_type": "display_data"
    }
   ],
   "source": [
    "plt.hist(df['Age'])"
   ]
  },
  {
   "cell_type": "code",
   "execution_count": 13,
   "id": "5cccfd97-fb1b-4fe1-b4a3-2ad4c1131e78",
   "metadata": {},
   "outputs": [
    {
     "data": {
      "text/plain": [
       "(array([2.912e+03, 2.642e+03, 1.193e+03, 5.080e+02, 1.670e+02, 6.000e+01,\n",
       "        2.100e+01, 4.000e+00, 1.000e+00, 2.000e+00]),\n",
       " array([   740.66 ,  26556.664,  52372.668,  78188.672, 104004.676,\n",
       "        129820.68 , 155636.684, 181452.688, 207268.692, 233084.696,\n",
       "        258900.7  ]),\n",
       " <BarContainer object of 10 artists>)"
      ]
     },
     "execution_count": 13,
     "metadata": {},
     "output_type": "execute_result"
    },
    {
     "data": {
      "image/png": "[encoded data removed]",
      "text/plain": [
       "<Figure size 432x288 with 1 Axes>"
      ]
     },
     "metadata": {
      "needs_background": "light"
     },
     "output_type": "display_data"
    }
   ],
   "source": [
    "plt.hist(df['Income'])"
   ]
  },
  {
   "cell_type": "code",
   "execution_count": 14,
   "id": "23f976d9-e497-4af7-9ecd-09f7f12ed028",
   "metadata": {},
   "outputs": [
    {
     "data": {
      "text/plain": [
       "(array([2337., 1473.,  568.,  132.,   30.,  221.,  540.,  870., 1330.,\n",
       "        1568.]),\n",
       " array([ 1.00025934,  8.10016141, 15.20006347, 22.29996554, 29.3998676 ,\n",
       "        36.49976967, 43.59967174, 50.6995738 , 57.79947587, 64.89937793,\n",
       "        71.99928   ]),\n",
       " <BarContainer object of 10 artists>)"
      ]
     },
     "execution_count": 14,
     "metadata": {},
     "output_type": "execute_result"
    },
    {
     "data": {
      "image/png": "[encoded data removed]",
      "text/plain": [
       "<Figure size 432x288 with 1 Axes>"
      ]
     },
     "metadata": {
      "needs_background": "light"
     },
     "output_type": "display_data"
    }
   ],
   "source": [
    "plt.hist(df['Tenure'])"
   ]
  },
  {
   "cell_type": "code",
   "execution_count": 15,
   "id": "9cfc7f3e-76f2-4602-bcde-4fc3183398bf",
   "metadata": {},
   "outputs": [
    {
     "data": {
      "text/plain": [
       "(array([1031., 2062., 1087.,  255.,   98.,  370.,  844., 1399., 1484.,\n",
       "         349.]),\n",
       " array([ 155.5067148 ,  855.85424332, 1556.20177184, 2256.54930036,\n",
       "        2956.89682888, 3657.2443574 , 4357.59188592, 5057.93941444,\n",
       "        5758.28694296, 6458.63447148, 7158.982     ]),\n",
       " <BarContainer object of 10 artists>)"
      ]
     },
     "execution_count": 15,
     "metadata": {},
     "output_type": "execute_result"
    },
    {
     "data": {
      "image/png": "[encoded data removed]",
      "text/plain": [
       "<Figure size 432x288 with 1 Axes>"
      ]
     },
     "metadata": {
      "needs_background": "light"
     },
     "output_type": "display_data"
    }
   ],
   "source": [
    "plt.hist(df['Bandwidth_GB_Year'])"
   ]
  },
  {
   "cell_type": "code",
   "execution_count": 16,
   "id": "273e161d-b70b-4b97-80f4-b1a090758ec5",
   "metadata": {},
   "outputs": [],
   "source": [
    "df['Age'].fillna(df['Age'].mean(), inplace = True)\n",
    "df['Children'].fillna(df['Children'].median(), inplace = True)\n",
    "df['Income'].fillna(df['Income'].median(), inplace = True)\n",
    "df['Tenure'].fillna(df['Tenure'].mean(), inplace = True)\n",
    "df['Bandwidth_GB_Year'].fillna(df['Bandwidth_GB_Year'].mean(), inplace = True)"
   ]
  },
  {
   "cell_type": "code",
   "execution_count": 17,
   "id": "9c9021a9-048d-487e-a637-e2341d88d9a5",
   "metadata": {},
   "outputs": [],
   "source": [
    "df['Techie'] = df['Techie'].fillna(df['Techie'].mode()[0])\n",
    "df['Phone'] = df['Phone'].fillna(df['Phone'].mode()[0])\n",
    "df['TechSupport'] = df['TechSupport'].fillna(df['TechSupport'].mode()[0])"
   ]
  },
  {
   "cell_type": "code",
   "execution_count": 18,
   "id": "d0696243-da04-40ce-aa09-8e468d885ceb",
   "metadata": {},
   "outputs": [],
   "source": [
    "df['Children_z'] = stats.zscore(df['Children'])\n",
    "df['Age_z'] = stats.zscore(df['Age'])\n",
    "df['Income_z'] = stats.zscore(df['Income'])\n",
    "df['Outage_sec_perweek_z'] = stats.zscore(df['Outage_sec_perweek'])\n",
    "df['Email_z'] = stats.zscore(df['Email'])\n",
    "df['Contacts_z'] = stats.zscore(df['Contacts'])\n",
    "df['Yearly_equip_failure_z'] = stats.zscore(df['Yearly_equip_failure'])\n",
    "df['Tenure_z'] = stats.zscore(df['Tenure'])\n",
    "df['MonthlyCharge_z'] = stats.zscore(df['MonthlyCharge'])\n",
    "df['Bandwidth_GB_Year_z'] = stats.zscore(df['Bandwidth_GB_Year'])"
   ]
  },
  {
   "cell_type": "code",
   "execution_count": 19,
   "id": "bc099b99-7024-4418-a969-ab18a017d7fe",
   "metadata": {},
   "outputs": [
    {
     "data": {
      "text/plain": [
       "302"
      ]
     },
     "execution_count": 19,
     "metadata": {},
     "output_type": "execute_result"
    }
   ],
   "source": [
    "len(df.query('Children_z > 3 | Children_z < -3'))"
   ]
  },
  {
   "cell_type": "code",
   "execution_count": 20,
   "id": "d4755e0e-8583-4c3d-a348-07ff9c32f417",
   "metadata": {},
   "outputs": [
    {
     "data": {
      "text/plain": [
       "0"
      ]
     },
     "execution_count": 20,
     "metadata": {},
     "output_type": "execute_result"
    }
   ],
   "source": [
    "len(df.query('Age_z > 3 | Age_z < -3'))"
   ]
  },
  {
   "cell_type": "code",
   "execution_count": 21,
   "id": "76f9011a-9474-449c-9dc8-62d7106f1895",
   "metadata": {},
   "outputs": [
    {
     "data": {
      "text/plain": [
       "193"
      ]
     },
     "execution_count": 21,
     "metadata": {},
     "output_type": "execute_result"
    }
   ],
   "source": [
    "len(df.query('Income_z > 3 | Income_z < -3'))"
   ]
  },
  {
   "cell_type": "code",
   "execution_count": 22,
   "id": "ff51228f-a367-4e65-93df-41ac01d23337",
   "metadata": {},
   "outputs": [
    {
     "data": {
      "text/plain": [
       "491"
      ]
     },
     "execution_count": 22,
     "metadata": {},
     "output_type": "execute_result"
    }
   ],
   "source": [
    "len(df.query('Outage_sec_perweek_z > 3 | Outage_sec_perweek_z < -3'))"
   ]
  },
  {
   "cell_type": "code",
   "execution_count": 23,
   "id": "b15cc44f-8f31-420c-8a3b-7339d3f3ace4",
   "metadata": {},
   "outputs": [
    {
     "data": {
      "text/plain": [
       "12"
      ]
     },
     "execution_count": 23,
     "metadata": {},
     "output_type": "execute_result"
    }
   ],
   "source": [
    "len(df.query('Email_z > 3 | Email_z < -3'))"
   ]
  },
  {
   "cell_type": "code",
   "execution_count": 24,
   "id": "cc6d6434-f58f-4adc-aca0-053af860b1f5",
   "metadata": {},
   "outputs": [
    {
     "data": {
      "text/plain": [
       "165"
      ]
     },
     "execution_count": 24,
     "metadata": {},
     "output_type": "execute_result"
    }
   ],
   "source": [
    "len(df.query('Contacts_z > 3 | Contacts_z < -3'))"
   ]
  },
  {
   "cell_type": "code",
   "execution_count": 25,
   "id": "c1033069-3941-4e80-9090-47faa867b7f4",
   "metadata": {},
   "outputs": [
    {
     "data": {
      "text/plain": [
       "94"
      ]
     },
     "execution_count": 25,
     "metadata": {},
     "output_type": "execute_result"
    }
   ],
   "source": [
    "len(df.query('Yearly_equip_failure_z > 3 | Yearly_equip_failure_z < -3'))"
   ]
  },
  {
   "cell_type": "code",
   "execution_count": 26,
   "id": "3d1ee268-79e3-419a-9a80-4be9f6cb19a5",
   "metadata": {},
   "outputs": [
    {
     "data": {
      "text/plain": [
       "0"
      ]
     },
     "execution_count": 26,
     "metadata": {},
     "output_type": "execute_result"
    }
   ],
   "source": [
    "len(df.query('Tenure_z > 3 | Tenure_z < -3'))"
   ]
  },
  {
   "cell_type": "code",
   "execution_count": 27,
   "id": "00c3265a-02c4-486e-a941-262895ca2612",
   "metadata": {},
   "outputs": [
    {
     "data": {
      "text/plain": [
       "3"
      ]
     },
     "execution_count": 27,
     "metadata": {},
     "output_type": "execute_result"
    }
   ],
   "source": [
    "len(df.query('MonthlyCharge_z > 3 | MonthlyCharge_z < -3'))"
   ]
  },
  {
   "cell_type": "code",
   "execution_count": 28,
   "id": "0f620033-920e-4dbf-8b3b-caba08510437",
   "metadata": {},
   "outputs": [
    {
     "data": {
      "text/plain": [
       "0"
      ]
     },
     "execution_count": 28,
     "metadata": {},
     "output_type": "execute_result"
    }
   ],
   "source": [
    "len(df.query('Bandwidth_GB_Year_z > 3 | Bandwidth_GB_Year_z < -3'))"
   ]
  },
  {
   "cell_type": "code",
   "execution_count": 29,
   "id": "bbdba30a-2e12-47b0-a0ea-2bfc05072cc0",
   "metadata": {},
   "outputs": [
    {
     "data": {
      "text/plain": [
       "(array([1919., 4369., 1100., 1096.,  769.,  161.,  135.,  149.,  158.,\n",
       "         144.]),\n",
       " array([-0.9463232 , -0.42707864,  0.09216591,  0.61141046,  1.13065501,\n",
       "         1.64989957,  2.16914412,  2.68838867,  3.20763323,  3.72687778,\n",
       "         4.24612233]),\n",
       " <BarContainer object of 10 artists>)"
      ]
     },
     "execution_count": 29,
     "metadata": {},
     "output_type": "execute_result"
    },
    {
     "data": {
      "image/png": "[encoded data removed]",
      "text/plain": [
       "<Figure size 432x288 with 1 Axes>"
      ]
     },
     "metadata": {
      "needs_background": "light"
     },
     "output_type": "display_data"
    }
   ],
   "source": [
    "plt.hist(df['Children_z'])"
   ]
  },
  {
   "cell_type": "code",
   "execution_count": 30,
   "id": "39caadf2-4b5b-44fc-a1e7-4f6246541c19",
   "metadata": {},
   "outputs": [
    {
     "data": {
      "text/plain": [
       "(array([ 853.,  756.,  714.,  739., 3183.,  739.,  728.,  728.,  761.,\n",
       "         799.]),\n",
       " array([-1.95952825, -1.56513121, -1.17073416, -0.77633712, -0.38194007,\n",
       "         0.01245697,  0.40685402,  0.80125106,  1.19564811,  1.59004516,\n",
       "         1.9844422 ]),\n",
       " <BarContainer object of 10 artists>)"
      ]
     },
     "execution_count": 30,
     "metadata": {},
     "output_type": "execute_result"
    },
    {
     "data": {
      "image/png": "[encoded data removed]",
      "text/plain": [
       "<Figure size 432x288 with 1 Axes>"
      ]
     },
     "metadata": {
      "needs_background": "light"
     },
     "output_type": "display_data"
    }
   ],
   "source": [
    "plt.hist(df['Age_z'])"
   ]
  },
  {
   "cell_type": "code",
   "execution_count": 31,
   "id": "8191dff3-da39-471e-a041-34eb85a43be6",
   "metadata": {},
   "outputs": [
    {
     "data": {
      "text/plain": [
       "(array([2.912e+03, 5.132e+03, 1.193e+03, 5.080e+02, 1.670e+02, 6.000e+01,\n",
       "        2.100e+01, 4.000e+00, 1.000e+00, 2.000e+00]),\n",
       " array([-1.51597813, -0.47276544,  0.57044725,  1.61365994,  2.65687263,\n",
       "         3.70008532,  4.74329801,  5.7865107 ,  6.82972339,  7.87293608,\n",
       "         8.91614877]),\n",
       " <BarContainer object of 10 artists>)"
      ]
     },
     "execution_count": 31,
     "metadata": {},
     "output_type": "execute_result"
    },
    {
     "data": {
      "image/png": "[encoded data removed]",
      "text/plain": [
       "<Figure size 432x288 with 1 Axes>"
      ]
     },
     "metadata": {
      "needs_background": "light"
     },
     "output_type": "display_data"
    }
   ],
   "source": [
    "plt.hist(df['Income_z'])"
   ]
  },
  {
   "cell_type": "code",
   "execution_count": 32,
   "id": "2f36b3e5-16aa-4391-962e-e2a5e3d8681d",
   "metadata": {},
   "outputs": [
    {
     "data": {
      "text/plain": [
       "(array([ 176., 2605., 5237., 1428.,   54.,    0.,    9.,  144.,  282.,\n",
       "          65.]),\n",
       " array([-1.82213355, -1.13325203, -0.44437051,  0.24451101,  0.93339253,\n",
       "         1.62227405,  2.31115557,  3.00003709,  3.68891861,  4.37780014,\n",
       "         5.06668166]),\n",
       " <BarContainer object of 10 artists>)"
      ]
     },
     "execution_count": 32,
     "metadata": {},
     "output_type": "execute_result"
    },
    {
     "data": {
      "image/png": "[encoded data removed]",
      "text/plain": [
       "<Figure size 432x288 with 1 Axes>"
      ]
     },
     "metadata": {
      "needs_background": "light"
     },
     "output_type": "display_data"
    }
   ],
   "source": [
    "plt.hist(df['Outage_sec_perweek_z'])"
   ]
  },
  {
   "cell_type": "code",
   "execution_count": 33,
   "id": "3a0c1ac1-9aa5-46b4-aee1-407d5cb8c876",
   "metadata": {},
   "outputs": [
    {
     "data": {
      "text/plain": [
       "(array([  23.,  140.,  501., 1317., 3675., 2328., 1296.,  554.,  151.,\n",
       "          15.]),\n",
       " array([-3.64075402, -2.9136608 , -2.18656759, -1.45947438, -0.73238116,\n",
       "        -0.00528795,  0.72180526,  1.44889848,  2.17599169,  2.9030849 ,\n",
       "         3.63017812]),\n",
       " <BarContainer object of 10 artists>)"
      ]
     },
     "execution_count": 33,
     "metadata": {},
     "output_type": "execute_result"
    },
    {
     "data": {
      "image/png": "[encoded data removed]",
      "text/plain": [
       "<Figure size 432x288 with 1 Axes>"
      ]
     },
     "metadata": {
      "needs_background": "light"
     },
     "output_type": "display_data"
    }
   ],
   "source": [
    "plt.hist(df['Email_z'])"
   ]
  },
  {
   "cell_type": "code",
   "execution_count": 34,
   "id": "60bcf7de-9d27-4fae-8515-678d466e7e9f",
   "metadata": {},
   "outputs": [
    {
     "data": {
      "text/plain": [
       "(array([3.680e+03, 3.675e+03, 1.872e+03, 0.000e+00, 6.080e+02, 1.370e+02,\n",
       "        0.000e+00, 2.000e+01, 5.000e+00, 3.000e+00]),\n",
       " array([-1.0058517 , -0.29764793,  0.41055584,  1.11875961,  1.82696339,\n",
       "         2.53516716,  3.24337093,  3.9515747 ,  4.65977847,  5.36798224,\n",
       "         6.07618601]),\n",
       " <BarContainer object of 10 artists>)"
      ]
     },
     "execution_count": 34,
     "metadata": {},
     "output_type": "execute_result"
    },
    {
     "data": {
      "image/png": "[encoded data removed]",
      "text/plain": [
       "<Figure size 432x288 with 1 Axes>"
      ]
     },
     "metadata": {
      "needs_background": "light"
     },
     "output_type": "display_data"
    }
   ],
   "source": [
    "plt.hist(df['Contacts_z'])"
   ]
  },
  {
   "cell_type": "code",
   "execution_count": 35,
   "id": "f872a8ed-7a13-4c2e-8a0f-0d8cf26ee558",
   "metadata": {},
   "outputs": [
    {
     "data": {
      "text/plain": [
       "(array([6.727e+03, 2.670e+03, 0.000e+00, 5.090e+02, 8.600e+01, 0.000e+00,\n",
       "        7.000e+00, 0.000e+00, 0.000e+00, 1.000e+00]),\n",
       " array([-0.62586353,  0.31764933,  1.26116219,  2.20467505,  3.14818792,\n",
       "         4.09170078,  5.03521364,  5.9787265 ,  6.92223936,  7.86575222,\n",
       "         8.80926509]),\n",
       " <BarContainer object of 10 artists>)"
      ]
     },
     "execution_count": 35,
     "metadata": {},
     "output_type": "execute_result"
    },
    {
     "data": {
      "image/png": "[encoded data removed]",
      "text/plain": [
       "<Figure size 432x288 with 1 Axes>"
      ]
     },
     "metadata": {
      "needs_background": "light"
     },
     "output_type": "display_data"
    }
   ],
   "source": [
    "plt.hist(df['Yearly_equip_failure_z'])"
   ]
  },
  {
   "cell_type": "code",
   "execution_count": 36,
   "id": "68d4d087-9655-4cd8-9475-274bb0b0f80e",
   "metadata": {},
   "outputs": [
    {
     "data": {
      "text/plain": [
       "(array([2337., 1473.,  568.,  132.,  961.,  221.,  540.,  870., 1330.,\n",
       "        1568.]),\n",
       " array([-1.33053844, -1.04853581, -0.76653319, -0.48453057, -0.20252794,\n",
       "         0.07947468,  0.3614773 ,  0.64347993,  0.92548255,  1.20748517,\n",
       "         1.4894878 ]),\n",
       " <BarContainer object of 10 artists>)"
      ]
     },
     "execution_count": 36,
     "metadata": {},
     "output_type": "execute_result"
    },
    {
     "data": {
      "image/png": "[encoded data removed]",
      "text/plain": [
       "<Figure size 432x288 with 1 Axes>"
      ]
     },
     "metadata": {
      "needs_background": "light"
     },
     "output_type": "display_data"
    }
   ],
   "source": [
    "plt.hist(df['Tenure_z'])"
   ]
  },
  {
   "cell_type": "code",
   "execution_count": 37,
   "id": "a55f6461-7b6d-464c-b7fe-540b2d2836a6",
   "metadata": {},
   "outputs": [
    {
     "data": {
      "text/plain": [
       "(array([ 219.,  947., 1917., 2272., 1809., 1151.,  968.,  520.,  187.,\n",
       "          10.]),\n",
       " array([-2.22856466, -1.67847193, -1.12837919, -0.57828646, -0.02819372,\n",
       "         0.52189901,  1.07199175,  1.62208448,  2.17217722,  2.72226995,\n",
       "         3.27236269]),\n",
       " <BarContainer object of 10 artists>)"
      ]
     },
     "execution_count": 37,
     "metadata": {},
     "output_type": "execute_result"
    },
    {
     "data": {
      "image/png": "[encoded data removed]",
      "text/plain": [
       "<Figure size 432x288 with 1 Axes>"
      ]
     },
     "metadata": {
      "needs_background": "light"
     },
     "output_type": "display_data"
    }
   ],
   "source": [
    "plt.hist(df['MonthlyCharge_z'])"
   ]
  },
  {
   "cell_type": "code",
   "execution_count": 38,
   "id": "9d21a6b7-3ccb-456f-a3e5-3817abcfee5c",
   "metadata": {},
   "outputs": [
    {
     "data": {
      "text/plain": [
       "(array([1031., 2062., 1087.,  255., 1119.,  370.,  844., 1399., 1484.,\n",
       "         349.]),\n",
       " array([-1.5648567 , -1.22695045, -0.8890442 , -0.55113795, -0.21323169,\n",
       "         0.12467456,  0.46258081,  0.80048706,  1.13839331,  1.47629956,\n",
       "         1.81420581]),\n",
       " <BarContainer object of 10 artists>)"
      ]
     },
     "execution_count": 38,
     "metadata": {},
     "output_type": "execute_result"
    },
    {
     "data": {
      "image/png": "[encoded data removed]",
      "text/plain": [
       "<Figure size 432x288 with 1 Axes>"
      ]
     },
     "metadata": {
      "needs_background": "light"
     },
     "output_type": "display_data"
    }
   ],
   "source": [
    "plt.hist(df['Bandwidth_GB_Year_z'])"
   ]
  },
  {
   "cell_type": "code",
   "execution_count": 39,
   "id": "c54efb8d-0c41-4e76-a6a0-6f1829b73dfa",
   "metadata": {},
   "outputs": [
    {
     "data": {
      "image/png": "[encoded data removed]",
      "text/plain": [
       "<Figure size 432x288 with 1 Axes>"
      ]
     },
     "metadata": {
      "needs_background": "light"
     },
     "output_type": "display_data"
    }
   ],
   "source": [
    "boxplot=seaborn.boxplot(x='MonthlyCharge',data=df)"
   ]
  },
  {
   "cell_type": "code",
   "execution_count": 40,
   "id": "d7c1a190-b926-4175-8d1c-be328a0460a9",
   "metadata": {},
   "outputs": [
    {
     "data": {
      "image/png": "[encoded data removed]",
      "text/plain": [
       "<Figure size 432x288 with 1 Axes>"
      ]
     },
     "metadata": {
      "needs_background": "light"
     },
     "output_type": "display_data"
    }
   ],
   "source": [
    "boxplot=seaborn.boxplot(x='Yearly_equip_failure',data=df)"
   ]
  },
  {
   "cell_type": "code",
   "execution_count": 41,
   "id": "e2edbce2-d582-4670-ae8a-cdf1b9af601c",
   "metadata": {},
   "outputs": [
    {
     "data": {
      "image/png": "[encoded data removed]",
      "text/plain": [
       "<Figure size 432x288 with 1 Axes>"
      ]
     },
     "metadata": {
      "needs_background": "light"
     },
     "output_type": "display_data"
    }
   ],
   "source": [
    "boxplot=seaborn.boxplot(x='Email',data=df)"
   ]
  },
  {
   "cell_type": "code",
   "execution_count": 42,
   "id": "e63b56dd-b02e-4ee1-bf91-2baee778a7d1",
   "metadata": {},
   "outputs": [
    {
     "data": {
      "image/png": "[encoded data removed]",
      "text/plain": [
       "<Figure size 432x288 with 1 Axes>"
      ]
     },
     "metadata": {
      "needs_background": "light"
     },
     "output_type": "display_data"
    }
   ],
   "source": [
    "boxplot=seaborn.boxplot(x='Income',data=df)"
   ]
  },
  {
   "cell_type": "code",
   "execution_count": 43,
   "id": "6f5ed979-56b9-4da5-b786-7369412a1276",
   "metadata": {},
   "outputs": [
    {
     "data": {
      "image/png": "[encoded data removed]",
      "text/plain": [
       "<Figure size 432x288 with 1 Axes>"
      ]
     },
     "metadata": {
      "needs_background": "light"
     },
     "output_type": "display_data"
    }
   ],
   "source": [
    "boxplot=seaborn.boxplot(x='Children',data=df)"
   ]
  },
  {
   "cell_type": "code",
   "execution_count": 44,
   "id": "ce5969d1-e1c1-42a5-9e69-224a1349d4eb",
   "metadata": {},
   "outputs": [
    {
     "data": {
      "image/png": "[encoded data removed]",
      "text/plain": [
       "<Figure size 432x288 with 1 Axes>"
      ]
     },
     "metadata": {
      "needs_background": "light"
     },
     "output_type": "display_data"
    }
   ],
   "source": [
    "boxplot=seaborn.boxplot(x='Contacts',data=df)"
   ]
  },
  {
   "cell_type": "code",
   "execution_count": 45,
   "id": "05c11908-9a51-4479-83c0-a8e9f4f2d624",
   "metadata": {},
   "outputs": [
    {
     "data": {
      "image/png": "[encoded data removed]",
      "text/plain": [
       "<Figure size 432x288 with 1 Axes>"
      ]
     },
     "metadata": {
      "needs_background": "light"
     },
     "output_type": "display_data"
    }
   ],
   "source": [
    "boxplot=seaborn.boxplot(x='Outage_sec_perweek',data=df)"
   ]
  },
  {
   "cell_type": "code",
   "execution_count": 46,
   "id": "a1f4b5a9-888e-4eaa-b349-e46495cca696",
   "metadata": {},
   "outputs": [],
   "source": [
    "churn_MonthlyCharge_z = df.query('MonthlyCharge_z > 3 | MonthlyCharge_z < -3')\n",
    "churn_MonthlyCharge_z_sort = churn_MonthlyCharge_z.sort_values(['MonthlyCharge'], ascending = False)\n",
    "churn_MonthlyCharge_z_sort.to_csv(r'C:\\Users\\wstul\\d206\\churn_MonthlyCharge_z_sort.csv')"
   ]
  },
  {
   "cell_type": "code",
   "execution_count": 47,
   "id": "d7275bba-3a05-4246-99ed-34cb3d7ebf9f",
   "metadata": {},
   "outputs": [],
   "source": [
    "churn_Yearly_equip_failure_z = df.query('Yearly_equip_failure_z > 3 | Yearly_equip_failure_z < -3')\n",
    "churn_Yearly_equip_failure_z_sort = churn_Yearly_equip_failure_z.sort_values(['Yearly_equip_failure'], ascending = False)\n",
    "churn_Yearly_equip_failure_z_sort.to_csv(r'C:\\Users\\wstul\\d206\\churn_Yearly_equip_failure_z_sort.csv')"
   ]
  },
  {
   "cell_type": "code",
   "execution_count": 48,
   "id": "62bc7c2f-501a-4bf6-8a00-4e13ce721cd3",
   "metadata": {},
   "outputs": [],
   "source": [
    "churn_Email_z = df.query('Email_z > 3 | Email_z < -3')\n",
    "churn_Email_z_sort = churn_Email_z.sort_values(['Email'], ascending = False)\n",
    "churn_Email_z_sort.to_csv(r'C:\\Users\\wstul\\d206\\churn_Email_z_sort.csv')"
   ]
  },
  {
   "cell_type": "code",
   "execution_count": 49,
   "id": "a6074bd2-4be7-451b-98e6-9ee10a9ef362",
   "metadata": {},
   "outputs": [],
   "source": [
    "churn_Income_z = df.query('Income_z > 3 | Income_z < -3')\n",
    "churn_Income_z_sort = churn_Income_z.sort_values(['Income'], ascending = False)\n",
    "churn_Income_z_sort.to_csv(r'C:\\Users\\wstul\\d206\\churn_Income_z_sort.csv')"
   ]
  },
  {
   "cell_type": "code",
   "execution_count": 50,
   "id": "688f734e-2f0d-44a0-a65c-db820ecddc31",
   "metadata": {},
   "outputs": [],
   "source": [
    "churn_Children_z = df.query('Children_z > 3 | Children_z < -3')\n",
    "churn_Children_z_sort = churn_Children_z.sort_values(['Children'], ascending = False)\n",
    "churn_Children_z_sort.to_csv(r'C:\\Users\\wstul\\d206\\churn_Children_z_sort.csv')"
   ]
  },
  {
   "cell_type": "code",
   "execution_count": 51,
   "id": "dc2a91bc-6daa-4167-a121-7df4f2f45169",
   "metadata": {},
   "outputs": [],
   "source": [
    "churn_Contacts_z = df.query('Contacts_z > 3 | Contacts_z < -3')\n",
    "churn_Contacts_z_sort = churn_Contacts_z.sort_values(['Contacts'], ascending = False)\n",
    "churn_Contacts_z_sort.to_csv(r'C:\\Users\\wstul\\d206\\churn_Contacts_z_sort.csv')"
   ]
  },
  {
   "cell_type": "code",
   "execution_count": 52,
   "id": "b42af960-cf4c-42b0-8260-d5abbb8ac79a",
   "metadata": {},
   "outputs": [],
   "source": [
    "churn_outage_sec_z = df.query('Outage_sec_perweek_z > 3 | Outage_sec_perweek_z < -3')\n",
    "churn_outage_sec_z_sort = churn_outage_sec_z.sort_values(['Outage_sec_perweek_z'], ascending = False)\n",
    "churn_outage_sec_z_sort.to_csv(r'C:\\Users\\wstul\\d206\\churn_outage_sec_z_sort.csv')"
   ]
  },
  {
   "cell_type": "code",
   "execution_count": 53,
   "id": "c1f8fd54-2ea6-40e8-a5da-322102b622dc",
   "metadata": {},
   "outputs": [],
   "source": [
    "df.drop(['Children_z', 'Age_z', 'Income_z', 'Outage_sec_perweek_z', 'Email_z', 'Contacts_z', 'Yearly_equip_failure_z', 'Tenure_z', 'MonthlyCharge_z', 'Bandwidth_GB_Year_z'], axis=1, inplace=True)"
   ]
  },
  {
   "cell_type": "code",
   "execution_count": 54,
   "id": "993d90e3-a7cd-4145-b7c4-fa88f3ff6a57",
   "metadata": {},
   "outputs": [
    {
     "data": {
      "text/html": [
       "<div>\n",
       "<style scoped>\n",
       "    .dataframe tbody tr th:only-of-type {\n",
       "        vertical-align: middle;\n",
       "    }\n",
       "\n",
       "    .dataframe tbody tr th {\n",
       "        vertical-align: top;\n",
       "    }\n",
       "\n",
       "    .dataframe thead th {\n",
       "        text-align: right;\n",
       "    }\n",
       "</style>\n",
       "<table border=\"1\" class=\"dataframe\">\n",
       "  <thead>\n",
       "    <tr style=\"text-align: right;\">\n",
       "      <th></th>\n",
       "      <th>Marital_Divorced</th>\n",
       "      <th>Marital_Married</th>\n",
       "      <th>Marital_Never Married</th>\n",
       "      <th>Marital_Separated</th>\n",
       "      <th>Marital_Widowed</th>\n",
       "    </tr>\n",
       "  </thead>\n",
       "  <tbody>\n",
       "    <tr>\n",
       "      <th>0</th>\n",
       "      <td>0</td>\n",
       "      <td>0</td>\n",
       "      <td>0</td>\n",
       "      <td>0</td>\n",
       "      <td>1</td>\n",
       "    </tr>\n",
       "    <tr>\n",
       "      <th>1</th>\n",
       "      <td>0</td>\n",
       "      <td>1</td>\n",
       "      <td>0</td>\n",
       "      <td>0</td>\n",
       "      <td>0</td>\n",
       "    </tr>\n",
       "    <tr>\n",
       "      <th>2</th>\n",
       "      <td>0</td>\n",
       "      <td>0</td>\n",
       "      <td>0</td>\n",
       "      <td>0</td>\n",
       "      <td>1</td>\n",
       "    </tr>\n",
       "    <tr>\n",
       "      <th>3</th>\n",
       "      <td>0</td>\n",
       "      <td>1</td>\n",
       "      <td>0</td>\n",
       "      <td>0</td>\n",
       "      <td>0</td>\n",
       "    </tr>\n",
       "    <tr>\n",
       "      <th>4</th>\n",
       "      <td>0</td>\n",
       "      <td>0</td>\n",
       "      <td>0</td>\n",
       "      <td>1</td>\n",
       "      <td>0</td>\n",
       "    </tr>\n",
       "    <tr>\n",
       "      <th>...</th>\n",
       "      <td>...</td>\n",
       "      <td>...</td>\n",
       "      <td>...</td>\n",
       "      <td>...</td>\n",
       "      <td>...</td>\n",
       "    </tr>\n",
       "    <tr>\n",
       "      <th>9995</th>\n",
       "      <td>0</td>\n",
       "      <td>1</td>\n",
       "      <td>0</td>\n",
       "      <td>0</td>\n",
       "      <td>0</td>\n",
       "    </tr>\n",
       "    <tr>\n",
       "      <th>9996</th>\n",
       "      <td>1</td>\n",
       "      <td>0</td>\n",
       "      <td>0</td>\n",
       "      <td>0</td>\n",
       "      <td>0</td>\n",
       "    </tr>\n",
       "    <tr>\n",
       "      <th>9997</th>\n",
       "      <td>0</td>\n",
       "      <td>0</td>\n",
       "      <td>1</td>\n",
       "      <td>0</td>\n",
       "      <td>0</td>\n",
       "    </tr>\n",
       "    <tr>\n",
       "      <th>9998</th>\n",
       "      <td>0</td>\n",
       "      <td>0</td>\n",
       "      <td>0</td>\n",
       "      <td>1</td>\n",
       "      <td>0</td>\n",
       "    </tr>\n",
       "    <tr>\n",
       "      <th>9999</th>\n",
       "      <td>0</td>\n",
       "      <td>0</td>\n",
       "      <td>1</td>\n",
       "      <td>0</td>\n",
       "      <td>0</td>\n",
       "    </tr>\n",
       "  </tbody>\n",
       "</table>\n",
       "<p>10000 rows × 5 columns</p>\n",
       "</div>"
      ],
      "text/plain": [
       "      Marital_Divorced  Marital_Married  Marital_Never Married  \\\n",
       "0                    0                0                      0   \n",
       "1                    0                1                      0   \n",
       "2                    0                0                      0   \n",
       "3                    0                1                      0   \n",
       "4                    0                0                      0   \n",
       "...                ...              ...                    ...   \n",
       "9995                 0                1                      0   \n",
       "9996                 1                0                      0   \n",
       "9997                 0                0                      1   \n",
       "9998                 0                0                      0   \n",
       "9999                 0                0                      1   \n",
       "\n",
       "      Marital_Separated  Marital_Widowed  \n",
       "0                     0                1  \n",
       "1                     0                0  \n",
       "2                     0                1  \n",
       "3                     0                0  \n",
       "4                     1                0  \n",
       "...                 ...              ...  \n",
       "9995                  0                0  \n",
       "9996                  0                0  \n",
       "9997                  0                0  \n",
       "9998                  1                0  \n",
       "9999                  0                0  \n",
       "\n",
       "[10000 rows x 5 columns]"
      ]
     },
     "execution_count": 54,
     "metadata": {},
     "output_type": "execute_result"
    }
   ],
   "source": [
    "df_marital_ohe = pd.get_dummies(df['Marital'], prefix = 'Marital', drop_first = False)\n",
    "df_marital_ohe"
   ]
  },
  {
   "cell_type": "code",
   "execution_count": 55,
   "id": "7da2130b-4b55-4692-9688-d85822557ed2",
   "metadata": {},
   "outputs": [
    {
     "data": {
      "text/html": [
       "<div>\n",
       "<style scoped>\n",
       "    .dataframe tbody tr th:only-of-type {\n",
       "        vertical-align: middle;\n",
       "    }\n",
       "\n",
       "    .dataframe tbody tr th {\n",
       "        vertical-align: top;\n",
       "    }\n",
       "\n",
       "    .dataframe thead th {\n",
       "        text-align: right;\n",
       "    }\n",
       "</style>\n",
       "<table border=\"1\" class=\"dataframe\">\n",
       "  <thead>\n",
       "    <tr style=\"text-align: right;\">\n",
       "      <th></th>\n",
       "      <th>Unnamed: 0</th>\n",
       "      <th>CaseOrder</th>\n",
       "      <th>Customer_id</th>\n",
       "      <th>Interaction</th>\n",
       "      <th>City</th>\n",
       "      <th>State</th>\n",
       "      <th>County</th>\n",
       "      <th>Zip</th>\n",
       "      <th>Lat</th>\n",
       "      <th>Lng</th>\n",
       "      <th>...</th>\n",
       "      <th>item4</th>\n",
       "      <th>item5</th>\n",
       "      <th>item6</th>\n",
       "      <th>item7</th>\n",
       "      <th>item8</th>\n",
       "      <th>Marital_Divorced</th>\n",
       "      <th>Marital_Married</th>\n",
       "      <th>Marital_Never Married</th>\n",
       "      <th>Marital_Separated</th>\n",
       "      <th>Marital_Widowed</th>\n",
       "    </tr>\n",
       "  </thead>\n",
       "  <tbody>\n",
       "    <tr>\n",
       "      <th>0</th>\n",
       "      <td>1</td>\n",
       "      <td>1</td>\n",
       "      <td>K409198</td>\n",
       "      <td>aa90260b-4141-4a24-8e36-b04ce1f4f77b</td>\n",
       "      <td>Point Baker</td>\n",
       "      <td>AK</td>\n",
       "      <td>Prince of Wales-Hyder</td>\n",
       "      <td>99927</td>\n",
       "      <td>56.25100</td>\n",
       "      <td>-133.37571</td>\n",
       "      <td>...</td>\n",
       "      <td>3</td>\n",
       "      <td>4</td>\n",
       "      <td>4</td>\n",
       "      <td>3</td>\n",
       "      <td>4</td>\n",
       "      <td>0</td>\n",
       "      <td>0</td>\n",
       "      <td>0</td>\n",
       "      <td>0</td>\n",
       "      <td>1</td>\n",
       "    </tr>\n",
       "    <tr>\n",
       "      <th>1</th>\n",
       "      <td>2</td>\n",
       "      <td>2</td>\n",
       "      <td>S120509</td>\n",
       "      <td>fb76459f-c047-4a9d-8af9-e0f7d4ac2524</td>\n",
       "      <td>West Branch</td>\n",
       "      <td>MI</td>\n",
       "      <td>Ogemaw</td>\n",
       "      <td>48661</td>\n",
       "      <td>44.32893</td>\n",
       "      <td>-84.24080</td>\n",
       "      <td>...</td>\n",
       "      <td>3</td>\n",
       "      <td>4</td>\n",
       "      <td>3</td>\n",
       "      <td>4</td>\n",
       "      <td>4</td>\n",
       "      <td>0</td>\n",
       "      <td>1</td>\n",
       "      <td>0</td>\n",
       "      <td>0</td>\n",
       "      <td>0</td>\n",
       "    </tr>\n",
       "    <tr>\n",
       "      <th>2</th>\n",
       "      <td>3</td>\n",
       "      <td>3</td>\n",
       "      <td>K191035</td>\n",
       "      <td>344d114c-3736-4be5-98f7-c72c281e2d35</td>\n",
       "      <td>Yamhill</td>\n",
       "      <td>OR</td>\n",
       "      <td>Yamhill</td>\n",
       "      <td>97148</td>\n",
       "      <td>45.35589</td>\n",
       "      <td>-123.24657</td>\n",
       "      <td>...</td>\n",
       "      <td>4</td>\n",
       "      <td>4</td>\n",
       "      <td>3</td>\n",
       "      <td>3</td>\n",
       "      <td>3</td>\n",
       "      <td>0</td>\n",
       "      <td>0</td>\n",
       "      <td>0</td>\n",
       "      <td>0</td>\n",
       "      <td>1</td>\n",
       "    </tr>\n",
       "    <tr>\n",
       "      <th>3</th>\n",
       "      <td>4</td>\n",
       "      <td>4</td>\n",
       "      <td>D90850</td>\n",
       "      <td>abfa2b40-2d43-4994-b15a-989b8c79e311</td>\n",
       "      <td>Del Mar</td>\n",
       "      <td>CA</td>\n",
       "      <td>San Diego</td>\n",
       "      <td>92014</td>\n",
       "      <td>32.96687</td>\n",
       "      <td>-117.24798</td>\n",
       "      <td>...</td>\n",
       "      <td>2</td>\n",
       "      <td>5</td>\n",
       "      <td>4</td>\n",
       "      <td>3</td>\n",
       "      <td>3</td>\n",
       "      <td>0</td>\n",
       "      <td>1</td>\n",
       "      <td>0</td>\n",
       "      <td>0</td>\n",
       "      <td>0</td>\n",
       "    </tr>\n",
       "    <tr>\n",
       "      <th>4</th>\n",
       "      <td>5</td>\n",
       "      <td>5</td>\n",
       "      <td>K662701</td>\n",
       "      <td>68a861fd-0d20-4e51-a587-8a90407ee574</td>\n",
       "      <td>Needville</td>\n",
       "      <td>TX</td>\n",
       "      <td>Fort Bend</td>\n",
       "      <td>77461</td>\n",
       "      <td>29.38012</td>\n",
       "      <td>-95.80673</td>\n",
       "      <td>...</td>\n",
       "      <td>3</td>\n",
       "      <td>4</td>\n",
       "      <td>4</td>\n",
       "      <td>4</td>\n",
       "      <td>5</td>\n",
       "      <td>0</td>\n",
       "      <td>0</td>\n",
       "      <td>0</td>\n",
       "      <td>1</td>\n",
       "      <td>0</td>\n",
       "    </tr>\n",
       "    <tr>\n",
       "      <th>...</th>\n",
       "      <td>...</td>\n",
       "      <td>...</td>\n",
       "      <td>...</td>\n",
       "      <td>...</td>\n",
       "      <td>...</td>\n",
       "      <td>...</td>\n",
       "      <td>...</td>\n",
       "      <td>...</td>\n",
       "      <td>...</td>\n",
       "      <td>...</td>\n",
       "      <td>...</td>\n",
       "      <td>...</td>\n",
       "      <td>...</td>\n",
       "      <td>...</td>\n",
       "      <td>...</td>\n",
       "      <td>...</td>\n",
       "      <td>...</td>\n",
       "      <td>...</td>\n",
       "      <td>...</td>\n",
       "      <td>...</td>\n",
       "      <td>...</td>\n",
       "    </tr>\n",
       "    <tr>\n",
       "      <th>9995</th>\n",
       "      <td>9996</td>\n",
       "      <td>9996</td>\n",
       "      <td>M324793</td>\n",
       "      <td>45deb5a2-ae04-4518-bf0b-c82db8dbe4a4</td>\n",
       "      <td>Mount Holly</td>\n",
       "      <td>VT</td>\n",
       "      <td>Rutland</td>\n",
       "      <td>5758</td>\n",
       "      <td>43.43391</td>\n",
       "      <td>-72.78734</td>\n",
       "      <td>...</td>\n",
       "      <td>3</td>\n",
       "      <td>4</td>\n",
       "      <td>3</td>\n",
       "      <td>2</td>\n",
       "      <td>3</td>\n",
       "      <td>0</td>\n",
       "      <td>1</td>\n",
       "      <td>0</td>\n",
       "      <td>0</td>\n",
       "      <td>0</td>\n",
       "    </tr>\n",
       "    <tr>\n",
       "      <th>9996</th>\n",
       "      <td>9997</td>\n",
       "      <td>9997</td>\n",
       "      <td>D861732</td>\n",
       "      <td>6e96b921-0c09-4993-bbda-a1ac6411061a</td>\n",
       "      <td>Clarksville</td>\n",
       "      <td>TN</td>\n",
       "      <td>Montgomery</td>\n",
       "      <td>37042</td>\n",
       "      <td>36.56907</td>\n",
       "      <td>-87.41694</td>\n",
       "      <td>...</td>\n",
       "      <td>4</td>\n",
       "      <td>4</td>\n",
       "      <td>5</td>\n",
       "      <td>2</td>\n",
       "      <td>5</td>\n",
       "      <td>1</td>\n",
       "      <td>0</td>\n",
       "      <td>0</td>\n",
       "      <td>0</td>\n",
       "      <td>0</td>\n",
       "    </tr>\n",
       "    <tr>\n",
       "      <th>9997</th>\n",
       "      <td>9998</td>\n",
       "      <td>9998</td>\n",
       "      <td>I243405</td>\n",
       "      <td>e8307ddf-9a01-4fff-bc59-4742e03fd24f</td>\n",
       "      <td>Mobeetie</td>\n",
       "      <td>TX</td>\n",
       "      <td>Wheeler</td>\n",
       "      <td>79061</td>\n",
       "      <td>35.52039</td>\n",
       "      <td>-100.44180</td>\n",
       "      <td>...</td>\n",
       "      <td>4</td>\n",
       "      <td>4</td>\n",
       "      <td>4</td>\n",
       "      <td>4</td>\n",
       "      <td>5</td>\n",
       "      <td>0</td>\n",
       "      <td>0</td>\n",
       "      <td>1</td>\n",
       "      <td>0</td>\n",
       "      <td>0</td>\n",
       "    </tr>\n",
       "    <tr>\n",
       "      <th>9998</th>\n",
       "      <td>9999</td>\n",
       "      <td>9999</td>\n",
       "      <td>I641617</td>\n",
       "      <td>3775ccfc-0052-4107-81ae-9657f81ecdf3</td>\n",
       "      <td>Carrollton</td>\n",
       "      <td>GA</td>\n",
       "      <td>Carroll</td>\n",
       "      <td>30117</td>\n",
       "      <td>33.58016</td>\n",
       "      <td>-85.13241</td>\n",
       "      <td>...</td>\n",
       "      <td>4</td>\n",
       "      <td>3</td>\n",
       "      <td>3</td>\n",
       "      <td>5</td>\n",
       "      <td>4</td>\n",
       "      <td>0</td>\n",
       "      <td>0</td>\n",
       "      <td>0</td>\n",
       "      <td>1</td>\n",
       "      <td>0</td>\n",
       "    </tr>\n",
       "    <tr>\n",
       "      <th>9999</th>\n",
       "      <td>10000</td>\n",
       "      <td>10000</td>\n",
       "      <td>T38070</td>\n",
       "      <td>9de5fb6e-bd33-4995-aec8-f01d0172a499</td>\n",
       "      <td>Clarkesville</td>\n",
       "      <td>GA</td>\n",
       "      <td>Habersham</td>\n",
       "      <td>30523</td>\n",
       "      <td>34.70783</td>\n",
       "      <td>-83.53648</td>\n",
       "      <td>...</td>\n",
       "      <td>3</td>\n",
       "      <td>3</td>\n",
       "      <td>3</td>\n",
       "      <td>4</td>\n",
       "      <td>1</td>\n",
       "      <td>0</td>\n",
       "      <td>0</td>\n",
       "      <td>1</td>\n",
       "      <td>0</td>\n",
       "      <td>0</td>\n",
       "    </tr>\n",
       "  </tbody>\n",
       "</table>\n",
       "<p>10000 rows × 57 columns</p>\n",
       "</div>"
      ],
      "text/plain": [
       "      Unnamed: 0  CaseOrder Customer_id                           Interaction  \\\n",
       "0              1          1     K409198  aa90260b-4141-4a24-8e36-b04ce1f4f77b   \n",
       "1              2          2     S120509  fb76459f-c047-4a9d-8af9-e0f7d4ac2524   \n",
       "2              3          3     K191035  344d114c-3736-4be5-98f7-c72c281e2d35   \n",
       "3              4          4      D90850  abfa2b40-2d43-4994-b15a-989b8c79e311   \n",
       "4              5          5     K662701  68a861fd-0d20-4e51-a587-8a90407ee574   \n",
       "...          ...        ...         ...                                   ...   \n",
       "9995        9996       9996     M324793  45deb5a2-ae04-4518-bf0b-c82db8dbe4a4   \n",
       "9996        9997       9997     D861732  6e96b921-0c09-4993-bbda-a1ac6411061a   \n",
       "9997        9998       9998     I243405  e8307ddf-9a01-4fff-bc59-4742e03fd24f   \n",
       "9998        9999       9999     I641617  3775ccfc-0052-4107-81ae-9657f81ecdf3   \n",
       "9999       10000      10000      T38070  9de5fb6e-bd33-4995-aec8-f01d0172a499   \n",
       "\n",
       "              City State                 County    Zip       Lat        Lng  \\\n",
       "0      Point Baker    AK  Prince of Wales-Hyder  99927  56.25100 -133.37571   \n",
       "1      West Branch    MI                 Ogemaw  48661  44.32893  -84.24080   \n",
       "2          Yamhill    OR                Yamhill  97148  45.35589 -123.24657   \n",
       "3          Del Mar    CA              San Diego  92014  32.96687 -117.24798   \n",
       "4        Needville    TX              Fort Bend  77461  29.38012  -95.80673   \n",
       "...            ...   ...                    ...    ...       ...        ...   \n",
       "9995   Mount Holly    VT                Rutland   5758  43.43391  -72.78734   \n",
       "9996   Clarksville    TN             Montgomery  37042  36.56907  -87.41694   \n",
       "9997      Mobeetie    TX                Wheeler  79061  35.52039 -100.44180   \n",
       "9998    Carrollton    GA                Carroll  30117  33.58016  -85.13241   \n",
       "9999  Clarkesville    GA              Habersham  30523  34.70783  -83.53648   \n",
       "\n",
       "      ...  item4 item5 item6 item7  item8  Marital_Divorced Marital_Married  \\\n",
       "0     ...      3     4     4     3      4                 0               0   \n",
       "1     ...      3     4     3     4      4                 0               1   \n",
       "2     ...      4     4     3     3      3                 0               0   \n",
       "3     ...      2     5     4     3      3                 0               1   \n",
       "4     ...      3     4     4     4      5                 0               0   \n",
       "...   ...    ...   ...   ...   ...    ...               ...             ...   \n",
       "9995  ...      3     4     3     2      3                 0               1   \n",
       "9996  ...      4     4     5     2      5                 1               0   \n",
       "9997  ...      4     4     4     4      5                 0               0   \n",
       "9998  ...      4     3     3     5      4                 0               0   \n",
       "9999  ...      3     3     3     4      1                 0               0   \n",
       "\n",
       "     Marital_Never Married  Marital_Separated Marital_Widowed  \n",
       "0                        0                  0               1  \n",
       "1                        0                  0               0  \n",
       "2                        0                  0               1  \n",
       "3                        0                  0               0  \n",
       "4                        0                  1               0  \n",
       "...                    ...                ...             ...  \n",
       "9995                     0                  0               0  \n",
       "9996                     0                  0               0  \n",
       "9997                     1                  0               0  \n",
       "9998                     0                  1               0  \n",
       "9999                     1                  0               0  \n",
       "\n",
       "[10000 rows x 57 columns]"
      ]
     },
     "execution_count": 55,
     "metadata": {},
     "output_type": "execute_result"
    }
   ],
   "source": [
    "df = pd.concat([df, df_marital_ohe], axis = 1)\n",
    "df"
   ]
  },
  {
   "cell_type": "code",
   "execution_count": 56,
   "id": "5c7cd1d4-6f60-4c2a-bc1f-bd707ef358a2",
   "metadata": {},
   "outputs": [],
   "source": [
    "df.drop(['Marital'], axis=1, inplace=True)"
   ]
  },
  {
   "cell_type": "code",
   "execution_count": 57,
   "id": "b8665320-9b62-4eec-9f47-c0902b230190",
   "metadata": {},
   "outputs": [
    {
     "ename": "NameError",
     "evalue": "name 'Education' is not defined",
     "output_type": "error",
     "traceback": [
      "\u001b[1;31m---------------------------------------------------------------------------\u001b[0m",
      "\u001b[1;31mNameError\u001b[0m                                 Traceback (most recent call last)",
      "\u001b[1;32m<ipython-input-57-5c439f5aa4b8>\u001b[0m in \u001b[0;36m<module>\u001b[1;34m\u001b[0m\n\u001b[1;32m----> 1\u001b[1;33m \u001b[0mEducation\u001b[0m\u001b[1;33m\u001b[0m\u001b[1;33m\u001b[0m\u001b[0m\n\u001b[0m\u001b[0;32m      2\u001b[0m \u001b[0mscale_mapper\u001b[0m \u001b[1;33m=\u001b[0m \u001b[1;33m{\u001b[0m\u001b[1;34m'Month-to-month'\u001b[0m \u001b[1;33m:\u001b[0m \u001b[1;36m1\u001b[0m\u001b[1;33m,\u001b[0m \u001b[1;34m'One year'\u001b[0m \u001b[1;33m:\u001b[0m \u001b[1;36m2\u001b[0m\u001b[1;33m,\u001b[0m \u001b[1;34m'Two Year'\u001b[0m \u001b[1;33m:\u001b[0m \u001b[1;36m3\u001b[0m\u001b[1;33m}\u001b[0m\u001b[1;33m\u001b[0m\u001b[1;33m\u001b[0m\u001b[0m\n\u001b[0;32m      3\u001b[0m \u001b[0mdf\u001b[0m\u001b[1;33m[\u001b[0m\u001b[1;34m'Contract_Duration'\u001b[0m\u001b[1;33m]\u001b[0m \u001b[1;33m=\u001b[0m \u001b[0mdf\u001b[0m\u001b[1;33m[\u001b[0m\u001b[1;34m'Contract'\u001b[0m\u001b[1;33m]\u001b[0m\u001b[1;33m.\u001b[0m\u001b[0mreplace\u001b[0m\u001b[1;33m(\u001b[0m\u001b[0mscale_mapper\u001b[0m\u001b[1;33m)\u001b[0m\u001b[1;33m\u001b[0m\u001b[1;33m\u001b[0m\u001b[0m\n\u001b[0;32m      4\u001b[0m \u001b[0mdf\u001b[0m\u001b[1;33m[\u001b[0m\u001b[1;34m'Contract_Duration'\u001b[0m\u001b[1;33m]\u001b[0m\u001b[1;33m\u001b[0m\u001b[1;33m\u001b[0m\u001b[0m\n",
      "\u001b[1;31mNameError\u001b[0m: name 'Education' is not defined"
     ]
    }
   ],
   "source": [
    "Education\n",
    "scale_mapper = {'Month-to-month' : 1, 'One year' : 2, 'Two Year' : 3}\n",
    "df['Contract_Duration'] = df['Contract'].replace(scale_mapper)\n",
    "df['Contract_Duration']"
   ]
  },
  {
   "cell_type": "code",
   "execution_count": 58,
   "id": "142bedf6-d41b-4344-9264-388f0026a98e",
   "metadata": {},
   "outputs": [
    {
     "data": {
      "text/plain": [
       "0       2\n",
       "1       1\n",
       "2       3\n",
       "3       3\n",
       "4       1\n",
       "       ..\n",
       "9995    1\n",
       "9996    3\n",
       "9997    1\n",
       "9998    3\n",
       "9999    1\n",
       "Name: Contract_Duration, Length: 10000, dtype: int64"
      ]
     },
     "execution_count": 58,
     "metadata": {},
     "output_type": "execute_result"
    }
   ],
   "source": [
    "scale_mapper = {'Month-to-month' : 1, 'One year' : 2, 'Two Year' : 3}\n",
    "df['Contract_Duration'] = df['Contract'].replace(scale_mapper)\n",
    "df['Contract_Duration']"
   ]
  },
  {
   "cell_type": "code",
   "execution_count": 59,
   "id": "c39df775-2ce3-42ed-b293-d21d3a71c33d",
   "metadata": {},
   "outputs": [
    {
     "data": {
      "text/plain": [
       "0       11\n",
       "1        5\n",
       "2        5\n",
       "3       12\n",
       "4       11\n",
       "        ..\n",
       "9995     6\n",
       "9996     5\n",
       "9997     2\n",
       "9998    10\n",
       "9999     4\n",
       "Name: Education_Level, Length: 10000, dtype: int64"
      ]
     },
     "execution_count": 59,
     "metadata": {},
     "output_type": "execute_result"
    }
   ],
   "source": [
    "scale_mapper = {'No Schooling Completed' : 1, 'Nursery School to 8th Grade' : 2, '9th Grade to 12th Grade, No Diploma' : 3, 'GED or Alternative Credential' : 4, 'Regular High School Diploma' : 5, 'Some College, Less than 1 Year' : 6, 'Some College, 1 or More Years, No Degree' : 7, 'Professional School Degree' : 8, \"Associate's Degree\" : 9, \"Bachelor's Degree\" : 10, \"Master's Degree\" : 11, 'Doctorate Degree' : 12}\n",
    "df['Education_Level'] = df['Education'].replace(scale_mapper)\n",
    "df['Education_Level']"
   ]
  },
  {
   "cell_type": "code",
   "execution_count": 60,
   "id": "82daad3b-63d2-4c9a-bb5f-0b0e0e7940e0",
   "metadata": {},
   "outputs": [],
   "source": [
    "test_pca = df[['Children', 'Age', 'Income', 'Outage_sec_perweek', 'Email', 'Contacts', 'Yearly_equip_failure', 'Tenure', 'MonthlyCharge', 'Bandwidth_GB_Year', 'Education_Level', 'Contract_Duration']]"
   ]
  },
  {
   "cell_type": "code",
   "execution_count": 61,
   "id": "d10c73ed-0767-4c5a-ac18-a43516f22bff",
   "metadata": {},
   "outputs": [],
   "source": [
    "test_pca_normalized = (test_pca - test_pca.mean()) / test_pca.std()"
   ]
  },
  {
   "cell_type": "code",
   "execution_count": 62,
   "id": "169c0da3-273d-4b54-b71e-c1a1bc1bef02",
   "metadata": {},
   "outputs": [
    {
     "data": {
      "text/plain": [
       "PCA(n_components=12)"
      ]
     },
     "execution_count": 62,
     "metadata": {},
     "output_type": "execute_result"
    }
   ],
   "source": [
    "pca = PCA(n_components = test_pca.shape[1])\n",
    "pca.fit(test_pca_normalized)"
   ]
  },
  {
   "cell_type": "code",
   "execution_count": 63,
   "id": "d2a39474-a9b6-4720-a9f7-2919c26d3b9f",
   "metadata": {},
   "outputs": [],
   "source": [
    "test_pca2 = pd.DataFrame(pca.transform(test_pca_normalized), columns = ['PC1', 'PC2', 'PC3', 'PC4', 'PC5', 'PC6', 'PC7', 'PC8', 'PC9', 'PC10', 'PC11', 'PC12'])"
   ]
  },
  {
   "cell_type": "code",
   "execution_count": 64,
   "id": "94912656-e711-4113-bb6f-f96076d7e1a1",
   "metadata": {},
   "outputs": [
    {
     "data": {
      "text/html": [
       "<div>\n",
       "<style scoped>\n",
       "    .dataframe tbody tr th:only-of-type {\n",
       "        vertical-align: middle;\n",
       "    }\n",
       "\n",
       "    .dataframe tbody tr th {\n",
       "        vertical-align: top;\n",
       "    }\n",
       "\n",
       "    .dataframe thead th {\n",
       "        text-align: right;\n",
       "    }\n",
       "</style>\n",
       "<table border=\"1\" class=\"dataframe\">\n",
       "  <thead>\n",
       "    <tr style=\"text-align: right;\">\n",
       "      <th></th>\n",
       "      <th>PC1</th>\n",
       "      <th>PC2</th>\n",
       "      <th>PC3</th>\n",
       "      <th>PC4</th>\n",
       "      <th>PC5</th>\n",
       "      <th>PC6</th>\n",
       "      <th>PC7</th>\n",
       "      <th>PC8</th>\n",
       "      <th>PC9</th>\n",
       "      <th>PC10</th>\n",
       "      <th>PC11</th>\n",
       "      <th>PC12</th>\n",
       "    </tr>\n",
       "  </thead>\n",
       "  <tbody>\n",
       "    <tr>\n",
       "      <th>Children</th>\n",
       "      <td>-0.001446</td>\n",
       "      <td>0.036638</td>\n",
       "      <td>0.627933</td>\n",
       "      <td>-0.086740</td>\n",
       "      <td>0.084185</td>\n",
       "      <td>0.227046</td>\n",
       "      <td>0.057255</td>\n",
       "      <td>0.428343</td>\n",
       "      <td>-0.035572</td>\n",
       "      <td>-0.591384</td>\n",
       "      <td>0.009741</td>\n",
       "      <td>-0.018510</td>\n",
       "    </tr>\n",
       "    <tr>\n",
       "      <th>Age</th>\n",
       "      <td>-0.012263</td>\n",
       "      <td>-0.056062</td>\n",
       "      <td>-0.468762</td>\n",
       "      <td>0.213257</td>\n",
       "      <td>0.366378</td>\n",
       "      <td>-0.002998</td>\n",
       "      <td>0.021525</td>\n",
       "      <td>0.476647</td>\n",
       "      <td>-0.587347</td>\n",
       "      <td>-0.097486</td>\n",
       "      <td>0.121004</td>\n",
       "      <td>0.021713</td>\n",
       "    </tr>\n",
       "    <tr>\n",
       "      <th>Income</th>\n",
       "      <td>0.005824</td>\n",
       "      <td>-0.016871</td>\n",
       "      <td>0.127524</td>\n",
       "      <td>0.532317</td>\n",
       "      <td>-0.315389</td>\n",
       "      <td>0.607478</td>\n",
       "      <td>0.142741</td>\n",
       "      <td>0.203534</td>\n",
       "      <td>-0.018019</td>\n",
       "      <td>0.405742</td>\n",
       "      <td>-0.069309</td>\n",
       "      <td>0.001262</td>\n",
       "    </tr>\n",
       "    <tr>\n",
       "      <th>Outage_sec_perweek</th>\n",
       "      <td>0.022743</td>\n",
       "      <td>0.700899</td>\n",
       "      <td>0.001454</td>\n",
       "      <td>0.081363</td>\n",
       "      <td>-0.024044</td>\n",
       "      <td>0.034517</td>\n",
       "      <td>-0.089702</td>\n",
       "      <td>-0.030587</td>\n",
       "      <td>0.058208</td>\n",
       "      <td>0.019948</td>\n",
       "      <td>0.697900</td>\n",
       "      <td>0.000460</td>\n",
       "    </tr>\n",
       "    <tr>\n",
       "      <th>Email</th>\n",
       "      <td>-0.021088</td>\n",
       "      <td>0.063269</td>\n",
       "      <td>-0.196179</td>\n",
       "      <td>-0.482197</td>\n",
       "      <td>-0.306685</td>\n",
       "      <td>-0.003164</td>\n",
       "      <td>-0.296867</td>\n",
       "      <td>0.646732</td>\n",
       "      <td>0.246924</td>\n",
       "      <td>0.245291</td>\n",
       "      <td>-0.054060</td>\n",
       "      <td>0.005688</td>\n",
       "    </tr>\n",
       "    <tr>\n",
       "      <th>Contacts</th>\n",
       "      <td>0.004771</td>\n",
       "      <td>-0.004508</td>\n",
       "      <td>-0.437291</td>\n",
       "      <td>-0.077558</td>\n",
       "      <td>0.329291</td>\n",
       "      <td>0.432270</td>\n",
       "      <td>0.339968</td>\n",
       "      <td>-0.002589</td>\n",
       "      <td>0.576485</td>\n",
       "      <td>-0.243833</td>\n",
       "      <td>0.006763</td>\n",
       "      <td>-0.002948</td>\n",
       "    </tr>\n",
       "    <tr>\n",
       "      <th>Yearly_equip_failure</th>\n",
       "      <td>0.015878</td>\n",
       "      <td>0.053182</td>\n",
       "      <td>0.228913</td>\n",
       "      <td>0.411054</td>\n",
       "      <td>0.533020</td>\n",
       "      <td>-0.343511</td>\n",
       "      <td>-0.212740</td>\n",
       "      <td>0.252415</td>\n",
       "      <td>0.422418</td>\n",
       "      <td>0.264838</td>\n",
       "      <td>-0.126055</td>\n",
       "      <td>-0.002357</td>\n",
       "    </tr>\n",
       "    <tr>\n",
       "      <th>Tenure</th>\n",
       "      <td>0.704498</td>\n",
       "      <td>-0.059355</td>\n",
       "      <td>-0.020411</td>\n",
       "      <td>-0.003147</td>\n",
       "      <td>-0.016332</td>\n",
       "      <td>-0.015116</td>\n",
       "      <td>0.001592</td>\n",
       "      <td>0.022534</td>\n",
       "      <td>-0.004446</td>\n",
       "      <td>0.004717</td>\n",
       "      <td>0.039139</td>\n",
       "      <td>-0.705091</td>\n",
       "    </tr>\n",
       "    <tr>\n",
       "      <th>MonthlyCharge</th>\n",
       "      <td>0.045445</td>\n",
       "      <td>0.693168</td>\n",
       "      <td>-0.115822</td>\n",
       "      <td>0.033991</td>\n",
       "      <td>-0.022473</td>\n",
       "      <td>-0.002895</td>\n",
       "      <td>0.039972</td>\n",
       "      <td>-0.034185</td>\n",
       "      <td>-0.126747</td>\n",
       "      <td>-0.112479</td>\n",
       "      <td>-0.684523</td>\n",
       "      <td>-0.048113</td>\n",
       "    </tr>\n",
       "    <tr>\n",
       "      <th>Bandwidth_GB_Year</th>\n",
       "      <td>0.706502</td>\n",
       "      <td>-0.010225</td>\n",
       "      <td>0.003068</td>\n",
       "      <td>-0.006535</td>\n",
       "      <td>-0.019052</td>\n",
       "      <td>-0.007244</td>\n",
       "      <td>0.004739</td>\n",
       "      <td>0.010827</td>\n",
       "      <td>0.005240</td>\n",
       "      <td>-0.017968</td>\n",
       "      <td>-0.011603</td>\n",
       "      <td>0.706865</td>\n",
       "    </tr>\n",
       "    <tr>\n",
       "      <th>Education_Level</th>\n",
       "      <td>-0.017362</td>\n",
       "      <td>0.061087</td>\n",
       "      <td>0.061022</td>\n",
       "      <td>-0.007130</td>\n",
       "      <td>-0.181080</td>\n",
       "      <td>-0.445824</td>\n",
       "      <td>0.826047</td>\n",
       "      <td>0.237845</td>\n",
       "      <td>0.048888</td>\n",
       "      <td>0.123001</td>\n",
       "      <td>0.064734</td>\n",
       "      <td>0.003103</td>\n",
       "    </tr>\n",
       "    <tr>\n",
       "      <th>Contract_Duration</th>\n",
       "      <td>0.027337</td>\n",
       "      <td>0.096324</td>\n",
       "      <td>0.264617</td>\n",
       "      <td>-0.498260</td>\n",
       "      <td>0.487965</td>\n",
       "      <td>0.272587</td>\n",
       "      <td>0.186802</td>\n",
       "      <td>-0.081374</td>\n",
       "      <td>-0.244540</td>\n",
       "      <td>0.507789</td>\n",
       "      <td>-0.010436</td>\n",
       "      <td>-0.001196</td>\n",
       "    </tr>\n",
       "  </tbody>\n",
       "</table>\n",
       "</div>"
      ],
      "text/plain": [
       "                           PC1       PC2       PC3       PC4       PC5  \\\n",
       "Children             -0.001446  0.036638  0.627933 -0.086740  0.084185   \n",
       "Age                  -0.012263 -0.056062 -0.468762  0.213257  0.366378   \n",
       "Income                0.005824 -0.016871  0.127524  0.532317 -0.315389   \n",
       "Outage_sec_perweek    0.022743  0.700899  0.001454  0.081363 -0.024044   \n",
       "Email                -0.021088  0.063269 -0.196179 -0.482197 -0.306685   \n",
       "Contacts              0.004771 -0.004508 -0.437291 -0.077558  0.329291   \n",
       "Yearly_equip_failure  0.015878  0.053182  0.228913  0.411054  0.533020   \n",
       "Tenure                0.704498 -0.059355 -0.020411 -0.003147 -0.016332   \n",
       "MonthlyCharge         0.045445  0.693168 -0.115822  0.033991 -0.022473   \n",
       "Bandwidth_GB_Year     0.706502 -0.010225  0.003068 -0.006535 -0.019052   \n",
       "Education_Level      -0.017362  0.061087  0.061022 -0.007130 -0.181080   \n",
       "Contract_Duration     0.027337  0.096324  0.264617 -0.498260  0.487965   \n",
       "\n",
       "                           PC6       PC7       PC8       PC9      PC10  \\\n",
       "Children              0.227046  0.057255  0.428343 -0.035572 -0.591384   \n",
       "Age                  -0.002998  0.021525  0.476647 -0.587347 -0.097486   \n",
       "Income                0.607478  0.142741  0.203534 -0.018019  0.405742   \n",
       "Outage_sec_perweek    0.034517 -0.089702 -0.030587  0.058208  0.019948   \n",
       "Email                -0.003164 -0.296867  0.646732  0.246924  0.245291   \n",
       "Contacts              0.432270  0.339968 -0.002589  0.576485 -0.243833   \n",
       "Yearly_equip_failure -0.343511 -0.212740  0.252415  0.422418  0.264838   \n",
       "Tenure               -0.015116  0.001592  0.022534 -0.004446  0.004717   \n",
       "MonthlyCharge        -0.002895  0.039972 -0.034185 -0.126747 -0.112479   \n",
       "Bandwidth_GB_Year    -0.007244  0.004739  0.010827  0.005240 -0.017968   \n",
       "Education_Level      -0.445824  0.826047  0.237845  0.048888  0.123001   \n",
       "Contract_Duration     0.272587  0.186802 -0.081374 -0.244540  0.507789   \n",
       "\n",
       "                          PC11      PC12  \n",
       "Children              0.009741 -0.018510  \n",
       "Age                   0.121004  0.021713  \n",
       "Income               -0.069309  0.001262  \n",
       "Outage_sec_perweek    0.697900  0.000460  \n",
       "Email                -0.054060  0.005688  \n",
       "Contacts              0.006763 -0.002948  \n",
       "Yearly_equip_failure -0.126055 -0.002357  \n",
       "Tenure                0.039139 -0.705091  \n",
       "MonthlyCharge        -0.684523 -0.048113  \n",
       "Bandwidth_GB_Year    -0.011603  0.706865  \n",
       "Education_Level       0.064734  0.003103  \n",
       "Contract_Duration    -0.010436 -0.001196  "
      ]
     },
     "execution_count": 64,
     "metadata": {},
     "output_type": "execute_result"
    }
   ],
   "source": [
    "loadings = pd.DataFrame(pca.components_.T, columns = ['PC1', 'PC2', 'PC3', 'PC4', 'PC5', 'PC6', 'PC7', 'PC8', 'PC9', 'PC10', 'PC11', 'PC12'], index = test_pca_normalized.columns)\n",
    "loadings"
   ]
  },
  {
   "cell_type": "code",
   "execution_count": 65,
   "id": "7c4b05d4-e14c-4138-b6c0-ffce0d157430",
   "metadata": {},
   "outputs": [],
   "source": [
    "cov_matrix = np.dot(test_pca_normalized.T, test_pca_normalized) / test_pca.shape[0]"
   ]
  },
  {
   "cell_type": "code",
   "execution_count": 66,
   "id": "9f8cf8fd-2bd9-4e2c-bc5a-55a622a0ff09",
   "metadata": {},
   "outputs": [],
   "source": [
    "eigenvalues = [np.dot(eigenvector.T, np.dot(cov_matrix, eigenvector)) for eigenvector in pca.components_]"
   ]
  },
  {
   "cell_type": "code",
   "execution_count": 67,
   "id": "dfe27057-65db-4dce-be7c-5813c1222a39",
   "metadata": {},
   "outputs": [
    {
     "data": {
      "image/png": "[encoded data removed]",
      "text/plain": [
       "<Figure size 432x288 with 1 Axes>"
      ]
     },
     "metadata": {
      "needs_background": "light"
     },
     "output_type": "display_data"
    }
   ],
   "source": [
    "plt.plot(eigenvalues)\n",
    "plt.xlabel('number of components')\n",
    "plt.ylabel('eigenvalues')\n",
    "plt.show()"
   ]
  },
  {
   "cell_type": "code",
   "execution_count": 68,
   "id": "01bd40f2-468a-4544-9ab6-c5ff8b56275f",
   "metadata": {},
   "outputs": [],
   "source": [
    "df.to_csv(r'C:\\Users\\wstul\\d206\\William_Stults_churn_raw_data_cleaned.csv')"
   ]
  },
  {
   "cell_type": "code",
   "execution_count": null,
   "id": "988d0731-c469-459d-b905-ad5738d6527a",
   "metadata": {},
   "outputs": [],
   "source": []
  }
 ],
 "metadata": {
  "kernelspec": {
   "display_name": "Python 3 (ipykernel)",
   "language": "python",
   "name": "python3"
  },
  "language_info": {
   "codemirror_mode": {
    "name": "ipython",
    "version": 3
   },
   "file_extension": ".py",
   "mimetype": "text/x-python",
   "name": "python",
   "nbconvert_exporter": "python",
   "pygments_lexer": "ipython3",
   "version": "3.8.16"
  }
 },
 "nbformat": 4,
 "nbformat_minor": 5
}
